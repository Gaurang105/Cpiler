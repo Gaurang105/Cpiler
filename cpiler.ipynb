{
 "cells": [
  {
   "cell_type": "code",
   "execution_count": 2,
   "metadata": {},
   "outputs": [],
   "source": [
    "import re\n",
    "c_code = \"3 + 4 * (2 - 1);\"\n",
    "\n",
    "# Lexer\n",
    "TOKENS = [\n",
    "    ('NUMBER', r'\\d+(\\.\\d+)?'),\n",
    "    ('OPERATOR', r'(\\+|\\-|\\*|\\/)'),\n",
    "    ('WHITESPACE', r'\\s+'),\n",
    "    ('LPAREN', r'\\('),\n",
    "    ('RPAREN', r'\\)'),\n",
    "    ('SEMICOLON', r';'),\n",
    "]\n",
    "\n",
    "def lexer(code):\n",
    "    tokens = []\n",
    "    code = code.strip()\n",
    "\n",
    "    while code:\n",
    "        for token_type, pattern in TOKENS:\n",
    "            match = re.match(pattern, code)\n",
    "            if match:\n",
    "                token = (token_type, match.group(0))\n",
    "                tokens.append(token)\n",
    "                code = code[match.end():].strip()\n",
    "                break\n",
    "        else:\n",
    "            raise ValueError(f\"Unexpected character: {code[0]}\")\n",
    "    return tokens\n"
   ]
  },
  {
   "cell_type": "code",
   "execution_count": 3,
   "metadata": {},
   "outputs": [
    {
     "data": {
      "text/plain": [
       "[('NUMBER', '3'),\n",
       " ('OPERATOR', '+'),\n",
       " ('NUMBER', '4'),\n",
       " ('OPERATOR', '*'),\n",
       " ('LPAREN', '('),\n",
       " ('NUMBER', '2'),\n",
       " ('OPERATOR', '-'),\n",
       " ('NUMBER', '1'),\n",
       " ('RPAREN', ')'),\n",
       " ('SEMICOLON', ';')]"
      ]
     },
     "execution_count": 3,
     "metadata": {},
     "output_type": "execute_result"
    }
   ],
   "source": [
    "lexer(c_code)"
   ]
  },
  {
   "cell_type": "code",
   "execution_count": 4,
   "metadata": {},
   "outputs": [],
   "source": [
    "class Parser:\n",
    "    def __init__(self, tokens):\n",
    "        self.tokens = tokens\n",
    "        self.index = 0\n",
    "\n",
    "    def parse(self):\n",
    "        expr = self.parse_expression()\n",
    "        if self._peek_token_type() == 'SEMICOLON':\n",
    "            self._next_token()\n",
    "        return expr\n",
    "\n",
    "    def parse_expression(self):\n",
    "        left = self.parse_term()\n",
    "\n",
    "        while self._peek_token_type() == 'OPERATOR':\n",
    "            op_token = self._next_token()\n",
    "            right = self.parse_term()\n",
    "            left = (op_token, left, right)\n",
    "\n",
    "        return left\n",
    "\n",
    "    def parse_term(self):\n",
    "        token = self._next_token()\n",
    "\n",
    "        if token[0] == 'NUMBER':\n",
    "            return token\n",
    "        elif token[0] == 'LPAREN':\n",
    "            expression = self.parse_expression()\n",
    "            self._expect_token_type('RPAREN')\n",
    "            return expression\n",
    "\n",
    "    def _next_token(self):\n",
    "        if self.index < len(self.tokens):\n",
    "            token = self.tokens[self.index]\n",
    "            self.index += 1\n",
    "            return token\n",
    "        return None\n",
    "\n",
    "    def _peek_token_type(self):\n",
    "        if self.index < len(self.tokens):\n",
    "            return self.tokens[self.index][0]\n",
    "        return None\n",
    "\n",
    "    def _expect_token_type(self, token_type):\n",
    "        token = self._next_token()\n",
    "        if token[0] != token_type:\n",
    "            raise ValueError(f\"Expected {token_type}, but got {token[0]}\")"
   ]
  },
  {
   "cell_type": "code",
   "execution_count": 5,
   "metadata": {},
   "outputs": [
    {
     "data": {
      "text/plain": [
       "(('OPERATOR', '*'),\n",
       " (('OPERATOR', '+'), ('NUMBER', '3'), ('NUMBER', '4')),\n",
       " (('OPERATOR', '-'), ('NUMBER', '2'), ('NUMBER', '1')))"
      ]
     },
     "execution_count": 5,
     "metadata": {},
     "output_type": "execute_result"
    }
   ],
   "source": [
    "Parser(lexer(c_code)).parse()"
   ]
  },
  {
   "cell_type": "code",
   "execution_count": null,
   "metadata": {},
   "outputs": [],
   "source": [
    "class CodeGenerator:\n",
    "    def __init__(self):\n",
    "        self.assembly_code = []\n",
    "\n",
    "    def generate(self, ast):\n",
    "        self._generate_expression(ast)\n",
    "        self.assembly_code.append('ret')\n",
    "        return '\\n'.join(self.assembly_code)\n",
    "\n",
    "    def _generate_expression(self, node):\n",
    "        if isinstance(node, tuple) and len(node) == 3:\n",
    "            op, left, right = node\n",
    "            self._generate_expression(left)\n",
    "            self.assembly_code.append('push eax')\n",
    "            self._generate_expression(right)\n",
    "            self.assembly_code.append('pop ebx')\n",
    "            self._generate_operator(op[1])\n",
    "        elif node[0] == 'NUMBER':\n",
    "            self.assembly_code.append(f'mov eax, {node[1]}')\n",
    "\n",
    "    def _generate_operator(self, op):\n",
    "        if op == '+':\n",
    "            self.assembly_code.append('add eax, ebx')\n",
    "        elif op == '-':\n",
    "            self.assembly_code.append('sub eax, ebx')\n",
    "        elif op == '*':\n",
    "            self.assembly_code.append('imul eax, ebx')\n",
    "        elif op == '/':\n",
    "            self.assembly_code.append('cdq')  # Sign-extend EAX into EDX:EAX\n",
    "            self.assembly_code.append('idiv ebx')  # Divide EDX:EAX by EBX\n",
    "        else:\n",
    "            raise ValueError(f\"Unknown operator: {op}\")"
   ]
  }
 ],
 "metadata": {
  "kernelspec": {
   "display_name": "Python 3",
   "language": "python",
   "name": "python3"
  },
  "language_info": {
   "codemirror_mode": {
    "name": "ipython",
    "version": 3
   },
   "file_extension": ".py",
   "mimetype": "text/x-python",
   "name": "python",
   "nbconvert_exporter": "python",
   "pygments_lexer": "ipython3",
   "version": "3.11.0"
  },
  "orig_nbformat": 4
 },
 "nbformat": 4,
 "nbformat_minor": 2
}
